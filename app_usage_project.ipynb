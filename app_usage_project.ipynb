
{
 "cells": [
  {
   "cell_type": "markdown",
   "metadata": {},
   "source": [
    "# 📱 App Usage Data Science Project\n",
    "\n",
    "This project explores mobile app usage data using the full data science pipeline."
   ]
  },
  {
   "cell_type": "code",
   "execution_count": null,
   "metadata": {},
   "outputs": [],
   "source": [
    "# STEP 1: Import libraries\n",
    "import pandas as pd\n",
    "import seaborn as sns\n",
    "import matplotlib.pyplot as plt\n",
    "import io\n",
    "from google.colab import files"
   ]
  },
  {
   "cell_type": "code",
   "execution_count": null,
   "metadata": {},
   "outputs": [],
   "source": [
    "# STEP 2: Upload your CSV\n",
    "uploaded = files.upload()\n",
    "filename = list(uploaded.keys())[0]\n",
    "df = pd.read_csv(io.BytesIO(uploaded[filename]))"
   ]
  },
  {
   "cell_type": "code",
   "execution_count": null,
   "metadata": {},
   "outputs": [],
   "source": [
    "# STEP 3: Data Cleaning\n",
    "df.drop_duplicates(inplace=True)\n",
    "df.dropna(inplace=True)\n",
    "df['date'] = pd.to_datetime(df['date'])\n",
    "\n",
    "# Remove outliers (IQR method)\n",
    "Q1 = df['usage_minutes'].quantile(0.25)\n",
    "Q3 = df['usage_minutes'].quantile(0.75)\n",
    "IQR = Q3 - Q1\n",
    "df = df[(df['usage_minutes'] >= Q1 - 1.5 * IQR) & (df['usage_minutes'] <= Q3 + 1.5 * IQR)]"
   ]
  },
  {
   "cell_type": "code",
   "execution_count": null,
   "metadata": {},
   "outputs": [],
   "source": [
    "# STEP 4: Exploratory Data Analysis\n",
    "print("Descriptive Statistics:\n", df.describe())\n",
    "print("\nGender-wise Average Usage:\n", df.groupby("gender")["usage_minutes"].mean())"
   ]
  },
  {
   "cell_type": "code",
   "execution_count": null,
   "metadata": {},
   "outputs": [],
   "source": [
    "# STEP 5: Visualizations\n",
    "sns.histplot(df['usage_minutes'], kde=True)\n",
    "plt.title("Usage Time Distribution")\n",
    "plt.show()\n",
    "\n",
    "sns.boxplot(x="gender", y="usage_minutes", data=df)\n",
    "plt.title("Usage Time by Gender")\n",
    "plt.show()\n",
    "\n",
    "sns.barplot(x="app_name", y="usage_minutes", data=df, estimator='mean')\n",
    "plt.title("Average Usage by App")\n",
    "plt.xticks(rotation=45)\n",
    "plt.show()\n",
    "\n",
    "sns.heatmap(df.select_dtypes(include='number').corr(), annot=True, cmap="coolwarm")\n",
    "plt.title("Feature Correlation Heatmap")\n",
    "plt.show()"
   ]
  }
 ],
 "metadata": {
  "colab": {
   "name": "app_usage_project.ipynb"
  },
  "kernelspec": {
   "display_name": "Python 3",
   "language": "python",
   "name": "python3"
  },
  "language_info": {
   "name": "python",
   "version": "3.x"
  }
 },
 "nbformat": 4,
 "nbformat_minor": 0
}
